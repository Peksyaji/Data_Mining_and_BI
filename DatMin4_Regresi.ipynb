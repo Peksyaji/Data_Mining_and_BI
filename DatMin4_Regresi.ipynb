{
  "nbformat": 4,
  "nbformat_minor": 0,
  "metadata": {
    "colab": {
      "provenance": [],
      "authorship_tag": "ABX9TyMeXMxWkYSyKAyIYrUB/llf",
      "include_colab_link": true
    },
    "kernelspec": {
      "name": "python3",
      "display_name": "Python 3"
    },
    "language_info": {
      "name": "python"
    }
  },
  "cells": [
    {
      "cell_type": "markdown",
      "metadata": {
        "id": "view-in-github",
        "colab_type": "text"
      },
      "source": [
        "<a href=\"https://colab.research.google.com/github/Peksyaji/Data_Mining_and_BI/blob/main/DatMin4_Regresi.ipynb\" target=\"_parent\"><img src=\"https://colab.research.google.com/assets/colab-badge.svg\" alt=\"Open In Colab\"/></a>"
      ]
    },
    {
      "cell_type": "markdown",
      "source": [
        "# Problem Statment\n",
        "**Ashrae - Great Energy Predictor**:\n",
        "*   Ashrae adalah suatu organisasi di bidang lingkungan yang bertujuan untuk menciptakan lingkungan yang sehat dan berkelanjutan.\n",
        "*   Anda adalah seorang data analyst yang bekerja untuk melihat seberapa besar energi listrik yang digunakan oleh suatu gedung pencakar langit di musim panas untuk dapat melakukan efisiensi dalam penggunaan energi listrik.\n",
        "*   Anda ditugaskan untuk membentuk model regresi dan menganalisis korelasi antara varibael independen dan meter_reading untuk memberikan rekomendasi yang dapat dilakukan untuk mengurangi penggunaan listrik yang sejalan dengan misi organisasi Ashrae."
      ],
      "metadata": {
        "id": "KLbOzeHbm2jj"
      }
    },
    {
      "cell_type": "code",
      "execution_count": 1,
      "metadata": {
        "id": "5V839ffxiZdO"
      },
      "outputs": [],
      "source": [
        "import pandas as pd\n",
        "import seaborn as sns\n",
        "import matplotlib.pyplot as plt\n",
        "import numpy as np\n",
        "import statsmodels.formula.api as smf"
      ]
    },
    {
      "cell_type": "code",
      "source": [
        "df = pd.read_csv('https://raw.githubusercontent.com/taudataid/eLearning/master/data/Ashrae_Energy_Mean.csv')\n",
        "df.head()"
      ],
      "metadata": {
        "colab": {
          "base_uri": "https://localhost:8080/",
          "height": 270
        },
        "id": "hlfUzDaNimzm",
        "outputId": "b0ad1d40-943a-457f-bc60-90c774493ccb"
      },
      "execution_count": 2,
      "outputs": [
        {
          "output_type": "execute_result",
          "data": {
            "text/plain": [
              "   meter_reading primary_use  square_feet  year_built  floor_count  \\\n",
              "0     237.749127   Education         7432      2008.0          NaN   \n",
              "1     118.553743   Education         2720      2004.0          NaN   \n",
              "2      23.626500   Education         5376      1991.0          NaN   \n",
              "3     382.736016   Education        23685      2002.0          NaN   \n",
              "4    1579.174237   Education       116607      1975.0          NaN   \n",
              "\n",
              "   air_temperature  cloud_coverage  dew_temperature  precip_depth_1_hr  \\\n",
              "0        22.744816        2.998727        17.379328           1.240589   \n",
              "1        22.744816        2.998727        17.379328           1.240589   \n",
              "2        22.744816        2.998727        17.379328           1.240589   \n",
              "3        22.744816        2.998727        17.379328           1.240589   \n",
              "4        22.744816        2.998727        17.379328           1.240589   \n",
              "\n",
              "   sea_level_pressure  wind_direction  wind_speed  \n",
              "0         1017.949437      152.521015    3.391472  \n",
              "1         1017.949437      152.521015    3.391472  \n",
              "2         1017.949437      152.521015    3.391472  \n",
              "3         1017.949437      152.521015    3.391472  \n",
              "4         1017.949437      152.521015    3.391472  "
            ],
            "text/html": [
              "\n",
              "  <div id=\"df-5f4a387b-f5ce-4bb5-adfc-e5f423896d2e\">\n",
              "    <div class=\"colab-df-container\">\n",
              "      <div>\n",
              "<style scoped>\n",
              "    .dataframe tbody tr th:only-of-type {\n",
              "        vertical-align: middle;\n",
              "    }\n",
              "\n",
              "    .dataframe tbody tr th {\n",
              "        vertical-align: top;\n",
              "    }\n",
              "\n",
              "    .dataframe thead th {\n",
              "        text-align: right;\n",
              "    }\n",
              "</style>\n",
              "<table border=\"1\" class=\"dataframe\">\n",
              "  <thead>\n",
              "    <tr style=\"text-align: right;\">\n",
              "      <th></th>\n",
              "      <th>meter_reading</th>\n",
              "      <th>primary_use</th>\n",
              "      <th>square_feet</th>\n",
              "      <th>year_built</th>\n",
              "      <th>floor_count</th>\n",
              "      <th>air_temperature</th>\n",
              "      <th>cloud_coverage</th>\n",
              "      <th>dew_temperature</th>\n",
              "      <th>precip_depth_1_hr</th>\n",
              "      <th>sea_level_pressure</th>\n",
              "      <th>wind_direction</th>\n",
              "      <th>wind_speed</th>\n",
              "    </tr>\n",
              "  </thead>\n",
              "  <tbody>\n",
              "    <tr>\n",
              "      <th>0</th>\n",
              "      <td>237.749127</td>\n",
              "      <td>Education</td>\n",
              "      <td>7432</td>\n",
              "      <td>2008.0</td>\n",
              "      <td>NaN</td>\n",
              "      <td>22.744816</td>\n",
              "      <td>2.998727</td>\n",
              "      <td>17.379328</td>\n",
              "      <td>1.240589</td>\n",
              "      <td>1017.949437</td>\n",
              "      <td>152.521015</td>\n",
              "      <td>3.391472</td>\n",
              "    </tr>\n",
              "    <tr>\n",
              "      <th>1</th>\n",
              "      <td>118.553743</td>\n",
              "      <td>Education</td>\n",
              "      <td>2720</td>\n",
              "      <td>2004.0</td>\n",
              "      <td>NaN</td>\n",
              "      <td>22.744816</td>\n",
              "      <td>2.998727</td>\n",
              "      <td>17.379328</td>\n",
              "      <td>1.240589</td>\n",
              "      <td>1017.949437</td>\n",
              "      <td>152.521015</td>\n",
              "      <td>3.391472</td>\n",
              "    </tr>\n",
              "    <tr>\n",
              "      <th>2</th>\n",
              "      <td>23.626500</td>\n",
              "      <td>Education</td>\n",
              "      <td>5376</td>\n",
              "      <td>1991.0</td>\n",
              "      <td>NaN</td>\n",
              "      <td>22.744816</td>\n",
              "      <td>2.998727</td>\n",
              "      <td>17.379328</td>\n",
              "      <td>1.240589</td>\n",
              "      <td>1017.949437</td>\n",
              "      <td>152.521015</td>\n",
              "      <td>3.391472</td>\n",
              "    </tr>\n",
              "    <tr>\n",
              "      <th>3</th>\n",
              "      <td>382.736016</td>\n",
              "      <td>Education</td>\n",
              "      <td>23685</td>\n",
              "      <td>2002.0</td>\n",
              "      <td>NaN</td>\n",
              "      <td>22.744816</td>\n",
              "      <td>2.998727</td>\n",
              "      <td>17.379328</td>\n",
              "      <td>1.240589</td>\n",
              "      <td>1017.949437</td>\n",
              "      <td>152.521015</td>\n",
              "      <td>3.391472</td>\n",
              "    </tr>\n",
              "    <tr>\n",
              "      <th>4</th>\n",
              "      <td>1579.174237</td>\n",
              "      <td>Education</td>\n",
              "      <td>116607</td>\n",
              "      <td>1975.0</td>\n",
              "      <td>NaN</td>\n",
              "      <td>22.744816</td>\n",
              "      <td>2.998727</td>\n",
              "      <td>17.379328</td>\n",
              "      <td>1.240589</td>\n",
              "      <td>1017.949437</td>\n",
              "      <td>152.521015</td>\n",
              "      <td>3.391472</td>\n",
              "    </tr>\n",
              "  </tbody>\n",
              "</table>\n",
              "</div>\n",
              "      <button class=\"colab-df-convert\" onclick=\"convertToInteractive('df-5f4a387b-f5ce-4bb5-adfc-e5f423896d2e')\"\n",
              "              title=\"Convert this dataframe to an interactive table.\"\n",
              "              style=\"display:none;\">\n",
              "        \n",
              "  <svg xmlns=\"http://www.w3.org/2000/svg\" height=\"24px\"viewBox=\"0 0 24 24\"\n",
              "       width=\"24px\">\n",
              "    <path d=\"M0 0h24v24H0V0z\" fill=\"none\"/>\n",
              "    <path d=\"M18.56 5.44l.94 2.06.94-2.06 2.06-.94-2.06-.94-.94-2.06-.94 2.06-2.06.94zm-11 1L8.5 8.5l.94-2.06 2.06-.94-2.06-.94L8.5 2.5l-.94 2.06-2.06.94zm10 10l.94 2.06.94-2.06 2.06-.94-2.06-.94-.94-2.06-.94 2.06-2.06.94z\"/><path d=\"M17.41 7.96l-1.37-1.37c-.4-.4-.92-.59-1.43-.59-.52 0-1.04.2-1.43.59L10.3 9.45l-7.72 7.72c-.78.78-.78 2.05 0 2.83L4 21.41c.39.39.9.59 1.41.59.51 0 1.02-.2 1.41-.59l7.78-7.78 2.81-2.81c.8-.78.8-2.07 0-2.86zM5.41 20L4 18.59l7.72-7.72 1.47 1.35L5.41 20z\"/>\n",
              "  </svg>\n",
              "      </button>\n",
              "      \n",
              "  <style>\n",
              "    .colab-df-container {\n",
              "      display:flex;\n",
              "      flex-wrap:wrap;\n",
              "      gap: 12px;\n",
              "    }\n",
              "\n",
              "    .colab-df-convert {\n",
              "      background-color: #E8F0FE;\n",
              "      border: none;\n",
              "      border-radius: 50%;\n",
              "      cursor: pointer;\n",
              "      display: none;\n",
              "      fill: #1967D2;\n",
              "      height: 32px;\n",
              "      padding: 0 0 0 0;\n",
              "      width: 32px;\n",
              "    }\n",
              "\n",
              "    .colab-df-convert:hover {\n",
              "      background-color: #E2EBFA;\n",
              "      box-shadow: 0px 1px 2px rgba(60, 64, 67, 0.3), 0px 1px 3px 1px rgba(60, 64, 67, 0.15);\n",
              "      fill: #174EA6;\n",
              "    }\n",
              "\n",
              "    [theme=dark] .colab-df-convert {\n",
              "      background-color: #3B4455;\n",
              "      fill: #D2E3FC;\n",
              "    }\n",
              "\n",
              "    [theme=dark] .colab-df-convert:hover {\n",
              "      background-color: #434B5C;\n",
              "      box-shadow: 0px 1px 3px 1px rgba(0, 0, 0, 0.15);\n",
              "      filter: drop-shadow(0px 1px 2px rgba(0, 0, 0, 0.3));\n",
              "      fill: #FFFFFF;\n",
              "    }\n",
              "  </style>\n",
              "\n",
              "      <script>\n",
              "        const buttonEl =\n",
              "          document.querySelector('#df-5f4a387b-f5ce-4bb5-adfc-e5f423896d2e button.colab-df-convert');\n",
              "        buttonEl.style.display =\n",
              "          google.colab.kernel.accessAllowed ? 'block' : 'none';\n",
              "\n",
              "        async function convertToInteractive(key) {\n",
              "          const element = document.querySelector('#df-5f4a387b-f5ce-4bb5-adfc-e5f423896d2e');\n",
              "          const dataTable =\n",
              "            await google.colab.kernel.invokeFunction('convertToInteractive',\n",
              "                                                     [key], {});\n",
              "          if (!dataTable) return;\n",
              "\n",
              "          const docLinkHtml = 'Like what you see? Visit the ' +\n",
              "            '<a target=\"_blank\" href=https://colab.research.google.com/notebooks/data_table.ipynb>data table notebook</a>'\n",
              "            + ' to learn more about interactive tables.';\n",
              "          element.innerHTML = '';\n",
              "          dataTable['output_type'] = 'display_data';\n",
              "          await google.colab.output.renderOutput(dataTable, element);\n",
              "          const docLink = document.createElement('div');\n",
              "          docLink.innerHTML = docLinkHtml;\n",
              "          element.appendChild(docLink);\n",
              "        }\n",
              "      </script>\n",
              "    </div>\n",
              "  </div>\n",
              "  "
            ]
          },
          "metadata": {},
          "execution_count": 2
        }
      ]
    },
    {
      "cell_type": "markdown",
      "source": [
        "# Preprocessing"
      ],
      "metadata": {
        "id": "cThcBfY9i0hj"
      }
    },
    {
      "cell_type": "code",
      "source": [
        "df.info()"
      ],
      "metadata": {
        "colab": {
          "base_uri": "https://localhost:8080/"
        },
        "id": "DoafA0lLiuUJ",
        "outputId": "94513757-451c-4aaa-fea9-4b6dcd52a430"
      },
      "execution_count": 3,
      "outputs": [
        {
          "output_type": "stream",
          "name": "stdout",
          "text": [
            "<class 'pandas.core.frame.DataFrame'>\n",
            "RangeIndex: 1413 entries, 0 to 1412\n",
            "Data columns (total 12 columns):\n",
            " #   Column              Non-Null Count  Dtype  \n",
            "---  ------              --------------  -----  \n",
            " 0   meter_reading       1413 non-null   float64\n",
            " 1   primary_use         1413 non-null   object \n",
            " 2   square_feet         1413 non-null   int64  \n",
            " 3   year_built          663 non-null    float64\n",
            " 4   floor_count         352 non-null    float64\n",
            " 5   air_temperature     1413 non-null   float64\n",
            " 6   cloud_coverage      1396 non-null   float64\n",
            " 7   dew_temperature     1413 non-null   float64\n",
            " 8   precip_depth_1_hr   1237 non-null   float64\n",
            " 9   sea_level_pressure  1324 non-null   float64\n",
            " 10  wind_direction      1413 non-null   float64\n",
            " 11  wind_speed          1413 non-null   float64\n",
            "dtypes: float64(10), int64(1), object(1)\n",
            "memory usage: 132.6+ KB\n"
          ]
        }
      ]
    },
    {
      "cell_type": "code",
      "source": [
        "print(set(df['primary_use']))"
      ],
      "metadata": {
        "colab": {
          "base_uri": "https://localhost:8080/"
        },
        "id": "IX8UQ5mUoqhn",
        "outputId": "db334c1a-f799-4899-c316-29c7d7d305ad"
      },
      "execution_count": 4,
      "outputs": [
        {
          "output_type": "stream",
          "name": "stdout",
          "text": [
            "{'Food sales and service', 'Public services', 'Retail', 'Lodging/residential', 'Utility', 'Religious worship', 'Services', 'Technology/science', 'Entertainment/public assembly', 'Education', 'Manufacturing/industrial', 'Other', 'Parking', 'Warehouse/storage', 'Healthcare', 'Office'}\n"
          ]
        }
      ]
    },
    {
      "cell_type": "code",
      "source": [
        "# Cek duplikasi data\n",
        "df.duplicated().sum()"
      ],
      "metadata": {
        "colab": {
          "base_uri": "https://localhost:8080/"
        },
        "id": "I3kWCKP9npRP",
        "outputId": "147d69ff-ae62-4a0d-f515-b579203694ff"
      },
      "execution_count": 5,
      "outputs": [
        {
          "output_type": "execute_result",
          "data": {
            "text/plain": [
              "0"
            ]
          },
          "metadata": {},
          "execution_count": 5
        }
      ]
    },
    {
      "cell_type": "markdown",
      "source": [
        "## Missing value"
      ],
      "metadata": {
        "id": "go89XbC0o7-g"
      }
    },
    {
      "cell_type": "code",
      "source": [
        "# Cek presentase missing value\n",
        "df.isnull().sum()/len(df)*100"
      ],
      "metadata": {
        "colab": {
          "base_uri": "https://localhost:8080/"
        },
        "id": "pzdWAz8Vn0Gf",
        "outputId": "f4918c5b-fc15-4b1d-f5ec-969e6cdf902b"
      },
      "execution_count": 6,
      "outputs": [
        {
          "output_type": "execute_result",
          "data": {
            "text/plain": [
              "meter_reading          0.000000\n",
              "primary_use            0.000000\n",
              "square_feet            0.000000\n",
              "year_built            53.078556\n",
              "floor_count           75.088464\n",
              "air_temperature        0.000000\n",
              "cloud_coverage         1.203114\n",
              "dew_temperature        0.000000\n",
              "precip_depth_1_hr     12.455768\n",
              "sea_level_pressure     6.298655\n",
              "wind_direction         0.000000\n",
              "wind_speed             0.000000\n",
              "dtype: float64"
            ]
          },
          "metadata": {},
          "execution_count": 6
        }
      ]
    },
    {
      "cell_type": "code",
      "source": [
        "'''\n",
        "Terlihat bahwa \"year_build\" dan \"floor_count\" memiliki missing value yang besar secara presentase,\n",
        "maka dari itu, kami akan menghapus dua variabel tersebut dari dataset\n",
        "'''\n",
        "df.drop(['year_built','floor_count'], axis=1, inplace=True)"
      ],
      "metadata": {
        "id": "I5Mpk_XKubFi"
      },
      "execution_count": 7,
      "outputs": []
    },
    {
      "cell_type": "code",
      "source": [
        "# Cek distribusi 'cloud_coverage'\n",
        "df['cloud_coverage'].plot(kind='density')"
      ],
      "metadata": {
        "colab": {
          "base_uri": "https://localhost:8080/",
          "height": 282
        },
        "id": "U22sMr8MoHBA",
        "outputId": "4c8c668f-668b-41a2-b0e1-4912dd689792"
      },
      "execution_count": 8,
      "outputs": [
        {
          "output_type": "execute_result",
          "data": {
            "text/plain": [
              "<matplotlib.axes._subplots.AxesSubplot at 0x7f10c3102370>"
            ]
          },
          "metadata": {},
          "execution_count": 8
        },
        {
          "output_type": "display_data",
          "data": {
            "text/plain": [
              "<Figure size 432x288 with 1 Axes>"
            ],
            "image/png": "[encoded data removed]"
          },
          "metadata": {
            "needs_background": "light"
          }
        }
      ]
    },
    {
      "cell_type": "code",
      "source": [
        "'''\n",
        "Karena distribusi data pada variabel 'cloud_coverage' tidak memiliki kecenderungan condong ke kiri atau ke kanan,\n",
        "maka kami mengisi missing value dengan nilai mean data\n",
        "'''\n",
        "df['cloud_coverage'] = df['cloud_coverage'].fillna(df['cloud_coverage'].mean())"
      ],
      "metadata": {
        "id": "34nG0N74qIr_"
      },
      "execution_count": 9,
      "outputs": []
    },
    {
      "cell_type": "code",
      "source": [
        "# Cek distribusi 'precip_depth_1_hr'\n",
        "df['precip_depth_1_hr'].plot(kind='density')"
      ],
      "metadata": {
        "colab": {
          "base_uri": "https://localhost:8080/",
          "height": 282
        },
        "id": "R97EZ8wNuEV6",
        "outputId": "6f35c1a9-1489-493b-b26b-1e8a681e057e"
      },
      "execution_count": 10,
      "outputs": [
        {
          "output_type": "execute_result",
          "data": {
            "text/plain": [
              "<matplotlib.axes._subplots.AxesSubplot at 0x7f10c3189ee0>"
            ]
          },
          "metadata": {},
          "execution_count": 10
        },
        {
          "output_type": "display_data",
          "data": {
            "text/plain": [
              "<Figure size 432x288 with 1 Axes>"
            ],
            "image/png": "[encoded data removed]"
          },
          "metadata": {
            "needs_background": "light"
          }
        }
      ]
    },
    {
      "cell_type": "code",
      "source": [
        "'''\n",
        "Karena distribusi data pada variabel 'precip_depth_1_hr' memiliki kecenderungan condong ke kiri,\n",
        "maka kami mengisi missing value dengan nilai median data\n",
        "'''\n",
        "df['precip_depth_1_hr'] = df['precip_depth_1_hr'].fillna(df['precip_depth_1_hr'].median())"
      ],
      "metadata": {
        "id": "lSSC7notviYJ"
      },
      "execution_count": 11,
      "outputs": []
    },
    {
      "cell_type": "code",
      "source": [
        "# Cek distribusi 'sea_level_pressure'\n",
        "df['sea_level_pressure'].plot(kind='density')"
      ],
      "metadata": {
        "colab": {
          "base_uri": "https://localhost:8080/",
          "height": 282
        },
        "id": "zp6AVoUhv5Lv",
        "outputId": "003c3e89-282d-4588-9cb4-9a6566efcaf2"
      },
      "execution_count": 12,
      "outputs": [
        {
          "output_type": "execute_result",
          "data": {
            "text/plain": [
              "<matplotlib.axes._subplots.AxesSubplot at 0x7f10c0b775b0>"
            ]
          },
          "metadata": {},
          "execution_count": 12
        },
        {
          "output_type": "display_data",
          "data": {
            "text/plain": [
              "<Figure size 432x288 with 1 Axes>"
            ],
            "image/png": "[encoded data removed]"
          },
          "metadata": {
            "needs_background": "light"
          }
        }
      ]
    },
    {
      "cell_type": "code",
      "source": [
        "'''\n",
        "Karena distribusi data pada variabel 'sea_level_pressure' memiliki kecenderungan condong ke kanan,\n",
        "maka kami mengisi missing value dengan nilai median data\n",
        "'''\n",
        "df['sea_level_pressure'] = df['sea_level_pressure'].fillna(df['sea_level_pressure'].median())"
      ],
      "metadata": {
        "id": "6f2xL9xOyJCj"
      },
      "execution_count": 13,
      "outputs": []
    },
    {
      "cell_type": "code",
      "source": [
        "df.info()"
      ],
      "metadata": {
        "colab": {
          "base_uri": "https://localhost:8080/"
        },
        "id": "3nEe0J97wM7b",
        "outputId": "30940bdf-e7f3-469f-af19-7ce410275cd1"
      },
      "execution_count": 14,
      "outputs": [
        {
          "output_type": "stream",
          "name": "stdout",
          "text": [
            "<class 'pandas.core.frame.DataFrame'>\n",
            "RangeIndex: 1413 entries, 0 to 1412\n",
            "Data columns (total 10 columns):\n",
            " #   Column              Non-Null Count  Dtype  \n",
            "---  ------              --------------  -----  \n",
            " 0   meter_reading       1413 non-null   float64\n",
            " 1   primary_use         1413 non-null   object \n",
            " 2   square_feet         1413 non-null   int64  \n",
            " 3   air_temperature     1413 non-null   float64\n",
            " 4   cloud_coverage      1413 non-null   float64\n",
            " 5   dew_temperature     1413 non-null   float64\n",
            " 6   precip_depth_1_hr   1413 non-null   float64\n",
            " 7   sea_level_pressure  1413 non-null   float64\n",
            " 8   wind_direction      1413 non-null   float64\n",
            " 9   wind_speed          1413 non-null   float64\n",
            "dtypes: float64(8), int64(1), object(1)\n",
            "memory usage: 110.5+ KB\n"
          ]
        }
      ]
    },
    {
      "cell_type": "markdown",
      "source": [
        "# EDA&Visualisasi"
      ],
      "metadata": {
        "id": "Az77wVXgyoRH"
      }
    },
    {
      "cell_type": "code",
      "source": [
        "# Banyak penggunaan gedung tiap kategori\n",
        "df['primary_use'].value_counts()"
      ],
      "metadata": {
        "colab": {
          "base_uri": "https://localhost:8080/"
        },
        "id": "uT017q8c0Z14",
        "outputId": "c79ed4c6-7e80-4842-c9ea-4ab9293d14c6"
      },
      "execution_count": 15,
      "outputs": [
        {
          "output_type": "execute_result",
          "data": {
            "text/plain": [
              "Education                        537\n",
              "Office                           269\n",
              "Entertainment/public assembly    179\n",
              "Public services                  155\n",
              "Lodging/residential              145\n",
              "Other                             25\n",
              "Parking                           22\n",
              "Healthcare                        21\n",
              "Warehouse/storage                 12\n",
              "Retail                            11\n",
              "Manufacturing/industrial          10\n",
              "Services                           9\n",
              "Technology/science                 6\n",
              "Food sales and service             5\n",
              "Utility                            4\n",
              "Religious worship                  3\n",
              "Name: primary_use, dtype: int64"
            ]
          },
          "metadata": {},
          "execution_count": 15
        }
      ]
    },
    {
      "cell_type": "code",
      "source": [
        "sns.countplot(data=df, y = 'primary_use')\n",
        "plt.title(\"Frekuensi kategori primary_use\")\n",
        "plt.xlabel('Jumlah')\n",
        "plt.ylabel('Primary_use')\n",
        "plt.show()"
      ],
      "metadata": {
        "colab": {
          "base_uri": "https://localhost:8080/",
          "height": 295
        },
        "id": "DrltjaeUygOB",
        "outputId": "8fa4e288-e762-4be1-ad07-c4dcb597368d"
      },
      "execution_count": 16,
      "outputs": [
        {
          "output_type": "display_data",
          "data": {
            "text/plain": [
              "<Figure size 432x288 with 1 Axes>"
            ],
            "image/png": "[encoded data removed]"
          },
          "metadata": {
            "needs_background": "light"
          }
        }
      ]
    },
    {
      "cell_type": "markdown",
      "source": [
        "Dari grafik di atas, terlihat bahwa record yang disimpan paling banyak adalah gedung yang digunakan sebagai tempat Education, yaitu sebanyak 537 bangunan. Kemudian empat bangunan lain yang record-nya tinggi adalah Office, Entertaiment/publict assembly, Public services, dan Lodging/residential."
      ],
      "metadata": {
        "id": "5QrQTQbS1L-f"
      }
    },
    {
      "cell_type": "code",
      "source": [
        "sns.histplot(data=df, x='square_feet', kde=True)\n",
        "plt.plot()"
      ],
      "metadata": {
        "colab": {
          "base_uri": "https://localhost:8080/",
          "height": 297
        },
        "id": "IY-wljnN-hb4",
        "outputId": "94b7ba72-1141-4e84-fc43-6f4d731ba696"
      },
      "execution_count": 17,
      "outputs": [
        {
          "output_type": "execute_result",
          "data": {
            "text/plain": [
              "[]"
            ]
          },
          "metadata": {},
          "execution_count": 17
        },
        {
          "output_type": "display_data",
          "data": {
            "text/plain": [
              "<Figure size 432x288 with 1 Axes>"
            ],
            "image/png": "[encoded data removed]"
          },
          "metadata": {
            "needs_background": "light"
          }
        }
      ]
    },
    {
      "cell_type": "markdown",
      "source": [
        "Terlihat dari grafik di atas bahwa banyaknya bangunan yang terrecord menurun sejalan dengan kenaikan luas bangunan.\n",
        "\n",
        "Mayoritas bangunan berdiri dengan luas bangunan di bawah 200000 kaki persegi."
      ],
      "metadata": {
        "id": "qbzuCQZXAsTu"
      }
    },
    {
      "cell_type": "code",
      "source": [
        "sns.scatterplot(data=df, x='meter_reading', y='square_feet', hue='primary_use', legend=False)\n",
        "plt.plot()"
      ],
      "metadata": {
        "colab": {
          "base_uri": "https://localhost:8080/",
          "height": 297
        },
        "id": "wPf66AHPA64C",
        "outputId": "67fbae5e-7438-4afe-c857-b18307a202d5"
      },
      "execution_count": 18,
      "outputs": [
        {
          "output_type": "execute_result",
          "data": {
            "text/plain": [
              "[]"
            ]
          },
          "metadata": {},
          "execution_count": 18
        },
        {
          "output_type": "display_data",
          "data": {
            "text/plain": [
              "<Figure size 432x288 with 1 Axes>"
            ],
            "image/png": "[encoded data removed]"
          },
          "metadata": {
            "needs_background": "light"
          }
        }
      ]
    },
    {
      "cell_type": "markdown",
      "source": [
        "1. Terlihat bahwa bangunan cenderung memiliki luas bangunan di bawah 200000 kaki persegi dan memiliki penggunaan listrik sebesar 0-1000 kWh.\n",
        "2. Terdapat bangunan dengan luas bangunan yang cenderung kecil tetapi mengonsumsi listrik dengan sangat tinggi.\n",
        "3. Terdapat bangunan dengan luas bangunna yang tinggi, tetapi mengonsumsi daya yang cenderung rendah."
      ],
      "metadata": {
        "id": "2Wsaoi7jBSrq"
      }
    },
    {
      "cell_type": "code",
      "source": [
        "sns.barplot(data=df, x='meter_reading', y='primary_use')\n",
        "plt.plot()"
      ],
      "metadata": {
        "colab": {
          "base_uri": "https://localhost:8080/",
          "height": 297
        },
        "id": "eoSyomyM3pr4",
        "outputId": "f49201fd-d1d7-418c-bac2-6ece1c6b985b"
      },
      "execution_count": 19,
      "outputs": [
        {
          "output_type": "execute_result",
          "data": {
            "text/plain": [
              "[]"
            ]
          },
          "metadata": {},
          "execution_count": 19
        },
        {
          "output_type": "display_data",
          "data": {
            "text/plain": [
              "<Figure size 432x288 with 1 Axes>"
            ],
            "image/png": "[encoded data removed]"
          },
          "metadata": {
            "needs_background": "light"
          }
        }
      ]
    },
    {
      "cell_type": "code",
      "source": [
        "sns.boxplot(data=df, x='meter_reading', y='primary_use')\n",
        "plt.plot()"
      ],
      "metadata": {
        "colab": {
          "base_uri": "https://localhost:8080/",
          "height": 297
        },
        "id": "ANz8UNxs8Sgl",
        "outputId": "715e4f2f-8d64-4477-97c0-0d402b469a4d"
      },
      "execution_count": 20,
      "outputs": [
        {
          "output_type": "execute_result",
          "data": {
            "text/plain": [
              "[]"
            ]
          },
          "metadata": {},
          "execution_count": 20
        },
        {
          "output_type": "display_data",
          "data": {
            "text/plain": [
              "<Figure size 432x288 with 1 Axes>"
            ],
            "image/png": "[encoded data removed]"
          },
          "metadata": {
            "needs_background": "light"
          }
        }
      ]
    },
    {
      "cell_type": "markdown",
      "source": [
        "Dilihat dari grafik di atas, Healtcare, Retail, dan Education menjadi penggunaan listrik terbanyak. Terlihat pula untuk Healtcare, Retail, Utility, dan Other memiliki outier yang jaraknya jauh dari rata-ratanya."
      ],
      "metadata": {
        "id": "5a__0h6y8Oi7"
      }
    },
    {
      "cell_type": "code",
      "source": [
        "sns.boxplot(data=df, x='meter_reading')\n",
        "plt.plot()"
      ],
      "metadata": {
        "colab": {
          "base_uri": "https://localhost:8080/",
          "height": 297
        },
        "id": "nB_-lAvn4t7n",
        "outputId": "dbb74f42-b107-40dc-b10c-77dcb432dc03"
      },
      "execution_count": 21,
      "outputs": [
        {
          "output_type": "execute_result",
          "data": {
            "text/plain": [
              "[]"
            ]
          },
          "metadata": {},
          "execution_count": 21
        },
        {
          "output_type": "display_data",
          "data": {
            "text/plain": [
              "<Figure size 432x288 with 1 Axes>"
            ],
            "image/png": "[encoded data removed]"
          },
          "metadata": {
            "needs_background": "light"
          }
        }
      ]
    },
    {
      "cell_type": "markdown",
      "source": [
        "Terlihat dari boxplot di atas bahwa pada variabel 'meter_reading' terdapat banyak outlier. Hal ini berarti bahwa sesungguhnya kebanyakan bangunan mengonsumsi listrik dengan rendah dan ada beberapa yang menggunakan listrik secara di luar kebiasaan bangunan lain. Oleh karena itu, kami memutuskan untuk menghapus outlier dari data"
      ],
      "metadata": {
        "id": "H1NMWcYn8QM1"
      }
    },
    {
      "cell_type": "markdown",
      "source": [
        "## Mengatasi Outlier"
      ],
      "metadata": {
        "id": "9q5pvN-QEvKI"
      }
    },
    {
      "cell_type": "code",
      "source": [
        "df_sub = df.loc[:, 'meter_reading']\n",
        "# Filter iqr: dalam 2,22 IQR\n",
        "iqr = df_sub.quantile(0.75) - df_sub.quantile(0.25)\n",
        "lim = np.abs((df_sub - df_sub.median()) / iqr) < 2.22\n",
        "# Mengganti outliers dengan nan\n",
        "df.loc[:, 'meter_reading'] = df_sub.where(lim, np.nan)"
      ],
      "metadata": {
        "id": "kVtDRFr9RwZd"
      },
      "execution_count": 22,
      "outputs": []
    },
    {
      "cell_type": "code",
      "source": [
        "df.dropna(inplace=True)"
      ],
      "metadata": {
        "id": "osRF9ratTVwj"
      },
      "execution_count": 23,
      "outputs": []
    },
    {
      "cell_type": "code",
      "source": [
        "df.info()"
      ],
      "metadata": {
        "colab": {
          "base_uri": "https://localhost:8080/"
        },
        "id": "ojDFuf2ZJInA",
        "outputId": "d6dc7f3e-f351-4b50-e19d-f2d896023e5f"
      },
      "execution_count": 24,
      "outputs": [
        {
          "output_type": "stream",
          "name": "stdout",
          "text": [
            "<class 'pandas.core.frame.DataFrame'>\n",
            "Int64Index: 1258 entries, 0 to 1412\n",
            "Data columns (total 10 columns):\n",
            " #   Column              Non-Null Count  Dtype  \n",
            "---  ------              --------------  -----  \n",
            " 0   meter_reading       1258 non-null   float64\n",
            " 1   primary_use         1258 non-null   object \n",
            " 2   square_feet         1258 non-null   int64  \n",
            " 3   air_temperature     1258 non-null   float64\n",
            " 4   cloud_coverage      1258 non-null   float64\n",
            " 5   dew_temperature     1258 non-null   float64\n",
            " 6   precip_depth_1_hr   1258 non-null   float64\n",
            " 7   sea_level_pressure  1258 non-null   float64\n",
            " 8   wind_direction      1258 non-null   float64\n",
            " 9   wind_speed          1258 non-null   float64\n",
            "dtypes: float64(8), int64(1), object(1)\n",
            "memory usage: 108.1+ KB\n"
          ]
        }
      ]
    },
    {
      "cell_type": "markdown",
      "source": [
        "# Pemodelan regresi"
      ],
      "metadata": {
        "id": "DdklX0oCUXgO"
      }
    },
    {
      "cell_type": "code",
      "source": [
        "# HeatMap untuk menyelidiki korelasi\n",
        "corr = df.corr() \n",
        "plt.figure(figsize=(12, 10))\n",
        "sns.heatmap(corr[(corr >= 0.5) | (corr <= -0.4)],\n",
        " cmap='viridis', vmax=1.0, vmin=-1.0, linewidths=0.1,\n",
        " annot=True, annot_kws={\"size\": 8}, square=True)\n",
        "plt.plot()"
      ],
      "metadata": {
        "colab": {
          "base_uri": "https://localhost:8080/",
          "height": 693
        },
        "id": "tSoFKz7aT4I0",
        "outputId": "121aab09-360f-44c3-810b-44e862c80cf3"
      },
      "execution_count": 25,
      "outputs": [
        {
          "output_type": "execute_result",
          "data": {
            "text/plain": [
              "[]"
            ]
          },
          "metadata": {},
          "execution_count": 25
        },
        {
          "output_type": "display_data",
          "data": {
            "text/plain": [
              "<Figure size 864x720 with 2 Axes>"
            ],
            "image/png": "[encoded data removed]"
          },
          "metadata": {
            "needs_background": "light"
          }
        }
      ]
    },
    {
      "cell_type": "markdown",
      "source": [
        "Interpretasi heatmap:\n",
        "\n",
        "- Nilai korelasi antar meter_reading (Y) dan square feet (variabel independen) menunjukan bahwa ada korelasi linier positif yang cukup kuat anatara meter reading dan square feet, ada kecenderungan bahwa nilai luas yang tinggi berkaitan dengan penggunaan listrik yang lebih tinggi dibandingkan luas square feet yang rendah\n",
        "\n",
        "- Dari heatmap kita dapat melihat juga korelasi antar variabel independen (multikolinearitas) dapat dilihat bahwa variabel 'wind_speed' berkorelasi cukup tinggi dengan 'air_temperature' dan 'wind_direction'. Selain itu, variabel 'air temperature' berkorelasi cukup tinggi dengan 'wind_direction' dan 'dew_temperature'."
      ],
      "metadata": {
        "id": "bw2ylgboVJ8D"
      }
    },
    {
      "cell_type": "code",
      "source": [
        "# Cek nilai VIF untuk mengetahui multikolieritas\n",
        "from statsmodels.stats.outliers_influence import variance_inflation_factor\n",
        "# VIF dataframe\n",
        "numerik = df[['meter_reading','square_feet','air_temperature','cloud_coverage',\n",
        "           'dew_temperature','precip_depth_1_hr','sea_level_pressure',\n",
        "         'wind_direction','wind_speed']]\n",
        "vif = pd.DataFrame()\n",
        "vif['variabel'] = numerik.columns\n",
        "  \n",
        "# Menghitung VIF untuk tiap variabel\n",
        "vif['VIF'] = [variance_inflation_factor(numerik.values, i) for i in range(len(numerik.columns))]\n",
        "  \n",
        "vif"
      ],
      "metadata": {
        "colab": {
          "base_uri": "https://localhost:8080/",
          "height": 332
        },
        "id": "rO5gyLk3Y-3x",
        "outputId": "e8147052-7d8c-4e83-a170-5b467559466a"
      },
      "execution_count": 26,
      "outputs": [
        {
          "output_type": "execute_result",
          "data": {
            "text/plain": [
              "             variabel         VIF\n",
              "0       meter_reading    2.810713\n",
              "1         square_feet    2.614641\n",
              "2     air_temperature   34.374906\n",
              "3      cloud_coverage    5.115313\n",
              "4     dew_temperature    7.398453\n",
              "5   precip_depth_1_hr    2.675656\n",
              "6  sea_level_pressure  267.850257\n",
              "7      wind_direction  325.995392\n",
              "8          wind_speed  147.366410"
            ],
            "text/html": [
              "\n",
              "  <div id=\"df-8f78da85-3b19-49ef-8859-71bd12166ab4\">\n",
              "    <div class=\"colab-df-container\">\n",
              "      <div>\n",
              "<style scoped>\n",
              "    .dataframe tbody tr th:only-of-type {\n",
              "        vertical-align: middle;\n",
              "    }\n",
              "\n",
              "    .dataframe tbody tr th {\n",
              "        vertical-align: top;\n",
              "    }\n",
              "\n",
              "    .dataframe thead th {\n",
              "        text-align: right;\n",
              "    }\n",
              "</style>\n",
              "<table border=\"1\" class=\"dataframe\">\n",
              "  <thead>\n",
              "    <tr style=\"text-align: right;\">\n",
              "      <th></th>\n",
              "      <th>variabel</th>\n",
              "      <th>VIF</th>\n",
              "    </tr>\n",
              "  </thead>\n",
              "  <tbody>\n",
              "    <tr>\n",
              "      <th>0</th>\n",
              "      <td>meter_reading</td>\n",
              "      <td>2.810713</td>\n",
              "    </tr>\n",
              "    <tr>\n",
              "      <th>1</th>\n",
              "      <td>square_feet</td>\n",
              "      <td>2.614641</td>\n",
              "    </tr>\n",
              "    <tr>\n",
              "      <th>2</th>\n",
              "      <td>air_temperature</td>\n",
              "      <td>34.374906</td>\n",
              "    </tr>\n",
              "    <tr>\n",
              "      <th>3</th>\n",
              "      <td>cloud_coverage</td>\n",
              "      <td>5.115313</td>\n",
              "    </tr>\n",
              "    <tr>\n",
              "      <th>4</th>\n",
              "      <td>dew_temperature</td>\n",
              "      <td>7.398453</td>\n",
              "    </tr>\n",
              "    <tr>\n",
              "      <th>5</th>\n",
              "      <td>precip_depth_1_hr</td>\n",
              "      <td>2.675656</td>\n",
              "    </tr>\n",
              "    <tr>\n",
              "      <th>6</th>\n",
              "      <td>sea_level_pressure</td>\n",
              "      <td>267.850257</td>\n",
              "    </tr>\n",
              "    <tr>\n",
              "      <th>7</th>\n",
              "      <td>wind_direction</td>\n",
              "      <td>325.995392</td>\n",
              "    </tr>\n",
              "    <tr>\n",
              "      <th>8</th>\n",
              "      <td>wind_speed</td>\n",
              "      <td>147.366410</td>\n",
              "    </tr>\n",
              "  </tbody>\n",
              "</table>\n",
              "</div>\n",
              "      <button class=\"colab-df-convert\" onclick=\"convertToInteractive('df-8f78da85-3b19-49ef-8859-71bd12166ab4')\"\n",
              "              title=\"Convert this dataframe to an interactive table.\"\n",
              "              style=\"display:none;\">\n",
              "        \n",
              "  <svg xmlns=\"http://www.w3.org/2000/svg\" height=\"24px\"viewBox=\"0 0 24 24\"\n",
              "       width=\"24px\">\n",
              "    <path d=\"M0 0h24v24H0V0z\" fill=\"none\"/>\n",
              "    <path d=\"M18.56 5.44l.94 2.06.94-2.06 2.06-.94-2.06-.94-.94-2.06-.94 2.06-2.06.94zm-11 1L8.5 8.5l.94-2.06 2.06-.94-2.06-.94L8.5 2.5l-.94 2.06-2.06.94zm10 10l.94 2.06.94-2.06 2.06-.94-2.06-.94-.94-2.06-.94 2.06-2.06.94z\"/><path d=\"M17.41 7.96l-1.37-1.37c-.4-.4-.92-.59-1.43-.59-.52 0-1.04.2-1.43.59L10.3 9.45l-7.72 7.72c-.78.78-.78 2.05 0 2.83L4 21.41c.39.39.9.59 1.41.59.51 0 1.02-.2 1.41-.59l7.78-7.78 2.81-2.81c.8-.78.8-2.07 0-2.86zM5.41 20L4 18.59l7.72-7.72 1.47 1.35L5.41 20z\"/>\n",
              "  </svg>\n",
              "      </button>\n",
              "      \n",
              "  <style>\n",
              "    .colab-df-container {\n",
              "      display:flex;\n",
              "      flex-wrap:wrap;\n",
              "      gap: 12px;\n",
              "    }\n",
              "\n",
              "    .colab-df-convert {\n",
              "      background-color: #E8F0FE;\n",
              "      border: none;\n",
              "      border-radius: 50%;\n",
              "      cursor: pointer;\n",
              "      display: none;\n",
              "      fill: #1967D2;\n",
              "      height: 32px;\n",
              "      padding: 0 0 0 0;\n",
              "      width: 32px;\n",
              "    }\n",
              "\n",
              "    .colab-df-convert:hover {\n",
              "      background-color: #E2EBFA;\n",
              "      box-shadow: 0px 1px 2px rgba(60, 64, 67, 0.3), 0px 1px 3px 1px rgba(60, 64, 67, 0.15);\n",
              "      fill: #174EA6;\n",
              "    }\n",
              "\n",
              "    [theme=dark] .colab-df-convert {\n",
              "      background-color: #3B4455;\n",
              "      fill: #D2E3FC;\n",
              "    }\n",
              "\n",
              "    [theme=dark] .colab-df-convert:hover {\n",
              "      background-color: #434B5C;\n",
              "      box-shadow: 0px 1px 3px 1px rgba(0, 0, 0, 0.15);\n",
              "      filter: drop-shadow(0px 1px 2px rgba(0, 0, 0, 0.3));\n",
              "      fill: #FFFFFF;\n",
              "    }\n",
              "  </style>\n",
              "\n",
              "      <script>\n",
              "        const buttonEl =\n",
              "          document.querySelector('#df-8f78da85-3b19-49ef-8859-71bd12166ab4 button.colab-df-convert');\n",
              "        buttonEl.style.display =\n",
              "          google.colab.kernel.accessAllowed ? 'block' : 'none';\n",
              "\n",
              "        async function convertToInteractive(key) {\n",
              "          const element = document.querySelector('#df-8f78da85-3b19-49ef-8859-71bd12166ab4');\n",
              "          const dataTable =\n",
              "            await google.colab.kernel.invokeFunction('convertToInteractive',\n",
              "                                                     [key], {});\n",
              "          if (!dataTable) return;\n",
              "\n",
              "          const docLinkHtml = 'Like what you see? Visit the ' +\n",
              "            '<a target=\"_blank\" href=https://colab.research.google.com/notebooks/data_table.ipynb>data table notebook</a>'\n",
              "            + ' to learn more about interactive tables.';\n",
              "          element.innerHTML = '';\n",
              "          dataTable['output_type'] = 'display_data';\n",
              "          await google.colab.output.renderOutput(dataTable, element);\n",
              "          const docLink = document.createElement('div');\n",
              "          docLink.innerHTML = docLinkHtml;\n",
              "          element.appendChild(docLink);\n",
              "        }\n",
              "      </script>\n",
              "    </div>\n",
              "  </div>\n",
              "  "
            ]
          },
          "metadata": {},
          "execution_count": 26
        }
      ]
    },
    {
      "cell_type": "markdown",
      "source": [
        "Karena nilai VIF  untuk variabel 'air_temperature', 'sea_level_pressure', 'wind_direction', dan 'wind_speed' bernilai lebih dari 10, maka variabel tersebut memiliki masalah multikolinieritas. Terdapat beberapa cara untuk mengatasi multikolinieritas, diantaranya adalah:\n",
        "1. Menghapus variabel yang berkorelasi\n",
        "2. Melakukan standarisasi\n",
        "3. Melakukan transformasi variabel\n",
        "4. Principal Component Analysis (PCA)"
      ],
      "metadata": {
        "id": "5Hn_OI0NireL"
      }
    },
    {
      "cell_type": "markdown",
      "source": [
        "## Mengatasi Multikolinieritas\n",
        "Kali ini kami akan menggunakan metode penghapusan variabel yang berkorelasi"
      ],
      "metadata": {
        "id": "dUGHUBvIymm6"
      }
    },
    {
      "cell_type": "code",
      "source": [
        "# Cek nilai VIF untuk mengetahui multikolieritas\n",
        "from statsmodels.stats.outliers_influence import variance_inflation_factor\n",
        "# VIF dataframe\n",
        "numerik = df[['meter_reading','square_feet','air_temperature','cloud_coverage',\n",
        "           'dew_temperature','precip_depth_1_hr','sea_level_pressure','wind_speed']] # Menghapus wind_direction\n",
        "vif = pd.DataFrame()\n",
        "vif['variabel'] = numerik.columns\n",
        "  \n",
        "# Menghitung VIF untuk tiap variabel\n",
        "vif['VIF'] = [variance_inflation_factor(numerik.values, i) for i in range(len(numerik.columns))]\n",
        "  \n",
        "vif"
      ],
      "metadata": {
        "colab": {
          "base_uri": "https://localhost:8080/",
          "height": 300
        },
        "id": "PWBizeN1Ic4S",
        "outputId": "8a2abbf4-b9dc-4f84-995a-9980d2b8e681"
      },
      "execution_count": 27,
      "outputs": [
        {
          "output_type": "execute_result",
          "data": {
            "text/plain": [
              "             variabel         VIF\n",
              "0       meter_reading    2.806869\n",
              "1         square_feet    2.594746\n",
              "2     air_temperature   32.263794\n",
              "3      cloud_coverage    4.843403\n",
              "4     dew_temperature    6.510616\n",
              "5   precip_depth_1_hr    2.673281\n",
              "6  sea_level_pressure  132.338416\n",
              "7          wind_speed   64.961793"
            ],
            "text/html": [
              "\n",
              "  <div id=\"df-db196e50-dd65-426a-a848-f1930cd7b8a2\">\n",
              "    <div class=\"colab-df-container\">\n",
              "      <div>\n",
              "<style scoped>\n",
              "    .dataframe tbody tr th:only-of-type {\n",
              "        vertical-align: middle;\n",
              "    }\n",
              "\n",
              "    .dataframe tbody tr th {\n",
              "        vertical-align: top;\n",
              "    }\n",
              "\n",
              "    .dataframe thead th {\n",
              "        text-align: right;\n",
              "    }\n",
              "</style>\n",
              "<table border=\"1\" class=\"dataframe\">\n",
              "  <thead>\n",
              "    <tr style=\"text-align: right;\">\n",
              "      <th></th>\n",
              "      <th>variabel</th>\n",
              "      <th>VIF</th>\n",
              "    </tr>\n",
              "  </thead>\n",
              "  <tbody>\n",
              "    <tr>\n",
              "      <th>0</th>\n",
              "      <td>meter_reading</td>\n",
              "      <td>2.806869</td>\n",
              "    </tr>\n",
              "    <tr>\n",
              "      <th>1</th>\n",
              "      <td>square_feet</td>\n",
              "      <td>2.594746</td>\n",
              "    </tr>\n",
              "    <tr>\n",
              "      <th>2</th>\n",
              "      <td>air_temperature</td>\n",
              "      <td>32.263794</td>\n",
              "    </tr>\n",
              "    <tr>\n",
              "      <th>3</th>\n",
              "      <td>cloud_coverage</td>\n",
              "      <td>4.843403</td>\n",
              "    </tr>\n",
              "    <tr>\n",
              "      <th>4</th>\n",
              "      <td>dew_temperature</td>\n",
              "      <td>6.510616</td>\n",
              "    </tr>\n",
              "    <tr>\n",
              "      <th>5</th>\n",
              "      <td>precip_depth_1_hr</td>\n",
              "      <td>2.673281</td>\n",
              "    </tr>\n",
              "    <tr>\n",
              "      <th>6</th>\n",
              "      <td>sea_level_pressure</td>\n",
              "      <td>132.338416</td>\n",
              "    </tr>\n",
              "    <tr>\n",
              "      <th>7</th>\n",
              "      <td>wind_speed</td>\n",
              "      <td>64.961793</td>\n",
              "    </tr>\n",
              "  </tbody>\n",
              "</table>\n",
              "</div>\n",
              "      <button class=\"colab-df-convert\" onclick=\"convertToInteractive('df-db196e50-dd65-426a-a848-f1930cd7b8a2')\"\n",
              "              title=\"Convert this dataframe to an interactive table.\"\n",
              "              style=\"display:none;\">\n",
              "        \n",
              "  <svg xmlns=\"http://www.w3.org/2000/svg\" height=\"24px\"viewBox=\"0 0 24 24\"\n",
              "       width=\"24px\">\n",
              "    <path d=\"M0 0h24v24H0V0z\" fill=\"none\"/>\n",
              "    <path d=\"M18.56 5.44l.94 2.06.94-2.06 2.06-.94-2.06-.94-.94-2.06-.94 2.06-2.06.94zm-11 1L8.5 8.5l.94-2.06 2.06-.94-2.06-.94L8.5 2.5l-.94 2.06-2.06.94zm10 10l.94 2.06.94-2.06 2.06-.94-2.06-.94-.94-2.06-.94 2.06-2.06.94z\"/><path d=\"M17.41 7.96l-1.37-1.37c-.4-.4-.92-.59-1.43-.59-.52 0-1.04.2-1.43.59L10.3 9.45l-7.72 7.72c-.78.78-.78 2.05 0 2.83L4 21.41c.39.39.9.59 1.41.59.51 0 1.02-.2 1.41-.59l7.78-7.78 2.81-2.81c.8-.78.8-2.07 0-2.86zM5.41 20L4 18.59l7.72-7.72 1.47 1.35L5.41 20z\"/>\n",
              "  </svg>\n",
              "      </button>\n",
              "      \n",
              "  <style>\n",
              "    .colab-df-container {\n",
              "      display:flex;\n",
              "      flex-wrap:wrap;\n",
              "      gap: 12px;\n",
              "    }\n",
              "\n",
              "    .colab-df-convert {\n",
              "      background-color: #E8F0FE;\n",
              "      border: none;\n",
              "      border-radius: 50%;\n",
              "      cursor: pointer;\n",
              "      display: none;\n",
              "      fill: #1967D2;\n",
              "      height: 32px;\n",
              "      padding: 0 0 0 0;\n",
              "      width: 32px;\n",
              "    }\n",
              "\n",
              "    .colab-df-convert:hover {\n",
              "      background-color: #E2EBFA;\n",
              "      box-shadow: 0px 1px 2px rgba(60, 64, 67, 0.3), 0px 1px 3px 1px rgba(60, 64, 67, 0.15);\n",
              "      fill: #174EA6;\n",
              "    }\n",
              "\n",
              "    [theme=dark] .colab-df-convert {\n",
              "      background-color: #3B4455;\n",
              "      fill: #D2E3FC;\n",
              "    }\n",
              "\n",
              "    [theme=dark] .colab-df-convert:hover {\n",
              "      background-color: #434B5C;\n",
              "      box-shadow: 0px 1px 3px 1px rgba(0, 0, 0, 0.15);\n",
              "      filter: drop-shadow(0px 1px 2px rgba(0, 0, 0, 0.3));\n",
              "      fill: #FFFFFF;\n",
              "    }\n",
              "  </style>\n",
              "\n",
              "      <script>\n",
              "        const buttonEl =\n",
              "          document.querySelector('#df-db196e50-dd65-426a-a848-f1930cd7b8a2 button.colab-df-convert');\n",
              "        buttonEl.style.display =\n",
              "          google.colab.kernel.accessAllowed ? 'block' : 'none';\n",
              "\n",
              "        async function convertToInteractive(key) {\n",
              "          const element = document.querySelector('#df-db196e50-dd65-426a-a848-f1930cd7b8a2');\n",
              "          const dataTable =\n",
              "            await google.colab.kernel.invokeFunction('convertToInteractive',\n",
              "                                                     [key], {});\n",
              "          if (!dataTable) return;\n",
              "\n",
              "          const docLinkHtml = 'Like what you see? Visit the ' +\n",
              "            '<a target=\"_blank\" href=https://colab.research.google.com/notebooks/data_table.ipynb>data table notebook</a>'\n",
              "            + ' to learn more about interactive tables.';\n",
              "          element.innerHTML = '';\n",
              "          dataTable['output_type'] = 'display_data';\n",
              "          await google.colab.output.renderOutput(dataTable, element);\n",
              "          const docLink = document.createElement('div');\n",
              "          docLink.innerHTML = docLinkHtml;\n",
              "          element.appendChild(docLink);\n",
              "        }\n",
              "      </script>\n",
              "    </div>\n",
              "  </div>\n",
              "  "
            ]
          },
          "metadata": {},
          "execution_count": 27
        }
      ]
    },
    {
      "cell_type": "code",
      "source": [
        "# Cek nilai VIF untuk mengetahui multikolieritas\n",
        "from statsmodels.stats.outliers_influence import variance_inflation_factor\n",
        "# VIF dataframe\n",
        "numerik = df[['meter_reading','square_feet','air_temperature','cloud_coverage',\n",
        "           'dew_temperature','precip_depth_1_hr','wind_speed']] # Menghapus sea_level_pressure\n",
        "vif = pd.DataFrame()\n",
        "vif['variabel'] = numerik.columns\n",
        "  \n",
        "# Menghitung VIF untuk tiap variabel\n",
        "vif['VIF'] = [variance_inflation_factor(numerik.values, i) for i in range(len(numerik.columns))]\n",
        "  \n",
        "vif"
      ],
      "metadata": {
        "colab": {
          "base_uri": "https://localhost:8080/",
          "height": 269
        },
        "id": "_3WFi0KaIto1",
        "outputId": "a6c058e2-d5e1-43c8-badd-ef17c1499057"
      },
      "execution_count": 28,
      "outputs": [
        {
          "output_type": "execute_result",
          "data": {
            "text/plain": [
              "            variabel       VIF\n",
              "0      meter_reading  2.790595\n",
              "1        square_feet  2.549199\n",
              "2    air_temperature  9.572550\n",
              "3     cloud_coverage  3.931799\n",
              "4    dew_temperature  6.299824\n",
              "5  precip_depth_1_hr  2.132752\n",
              "6         wind_speed  8.646100"
            ],
            "text/html": [
              "\n",
              "  <div id=\"df-e4576cfc-d939-453e-8d48-f35b5f50a9ad\">\n",
              "    <div class=\"colab-df-container\">\n",
              "      <div>\n",
              "<style scoped>\n",
              "    .dataframe tbody tr th:only-of-type {\n",
              "        vertical-align: middle;\n",
              "    }\n",
              "\n",
              "    .dataframe tbody tr th {\n",
              "        vertical-align: top;\n",
              "    }\n",
              "\n",
              "    .dataframe thead th {\n",
              "        text-align: right;\n",
              "    }\n",
              "</style>\n",
              "<table border=\"1\" class=\"dataframe\">\n",
              "  <thead>\n",
              "    <tr style=\"text-align: right;\">\n",
              "      <th></th>\n",
              "      <th>variabel</th>\n",
              "      <th>VIF</th>\n",
              "    </tr>\n",
              "  </thead>\n",
              "  <tbody>\n",
              "    <tr>\n",
              "      <th>0</th>\n",
              "      <td>meter_reading</td>\n",
              "      <td>2.790595</td>\n",
              "    </tr>\n",
              "    <tr>\n",
              "      <th>1</th>\n",
              "      <td>square_feet</td>\n",
              "      <td>2.549199</td>\n",
              "    </tr>\n",
              "    <tr>\n",
              "      <th>2</th>\n",
              "      <td>air_temperature</td>\n",
              "      <td>9.572550</td>\n",
              "    </tr>\n",
              "    <tr>\n",
              "      <th>3</th>\n",
              "      <td>cloud_coverage</td>\n",
              "      <td>3.931799</td>\n",
              "    </tr>\n",
              "    <tr>\n",
              "      <th>4</th>\n",
              "      <td>dew_temperature</td>\n",
              "      <td>6.299824</td>\n",
              "    </tr>\n",
              "    <tr>\n",
              "      <th>5</th>\n",
              "      <td>precip_depth_1_hr</td>\n",
              "      <td>2.132752</td>\n",
              "    </tr>\n",
              "    <tr>\n",
              "      <th>6</th>\n",
              "      <td>wind_speed</td>\n",
              "      <td>8.646100</td>\n",
              "    </tr>\n",
              "  </tbody>\n",
              "</table>\n",
              "</div>\n",
              "      <button class=\"colab-df-convert\" onclick=\"convertToInteractive('df-e4576cfc-d939-453e-8d48-f35b5f50a9ad')\"\n",
              "              title=\"Convert this dataframe to an interactive table.\"\n",
              "              style=\"display:none;\">\n",
              "        \n",
              "  <svg xmlns=\"http://www.w3.org/2000/svg\" height=\"24px\"viewBox=\"0 0 24 24\"\n",
              "       width=\"24px\">\n",
              "    <path d=\"M0 0h24v24H0V0z\" fill=\"none\"/>\n",
              "    <path d=\"M18.56 5.44l.94 2.06.94-2.06 2.06-.94-2.06-.94-.94-2.06-.94 2.06-2.06.94zm-11 1L8.5 8.5l.94-2.06 2.06-.94-2.06-.94L8.5 2.5l-.94 2.06-2.06.94zm10 10l.94 2.06.94-2.06 2.06-.94-2.06-.94-.94-2.06-.94 2.06-2.06.94z\"/><path d=\"M17.41 7.96l-1.37-1.37c-.4-.4-.92-.59-1.43-.59-.52 0-1.04.2-1.43.59L10.3 9.45l-7.72 7.72c-.78.78-.78 2.05 0 2.83L4 21.41c.39.39.9.59 1.41.59.51 0 1.02-.2 1.41-.59l7.78-7.78 2.81-2.81c.8-.78.8-2.07 0-2.86zM5.41 20L4 18.59l7.72-7.72 1.47 1.35L5.41 20z\"/>\n",
              "  </svg>\n",
              "      </button>\n",
              "      \n",
              "  <style>\n",
              "    .colab-df-container {\n",
              "      display:flex;\n",
              "      flex-wrap:wrap;\n",
              "      gap: 12px;\n",
              "    }\n",
              "\n",
              "    .colab-df-convert {\n",
              "      background-color: #E8F0FE;\n",
              "      border: none;\n",
              "      border-radius: 50%;\n",
              "      cursor: pointer;\n",
              "      display: none;\n",
              "      fill: #1967D2;\n",
              "      height: 32px;\n",
              "      padding: 0 0 0 0;\n",
              "      width: 32px;\n",
              "    }\n",
              "\n",
              "    .colab-df-convert:hover {\n",
              "      background-color: #E2EBFA;\n",
              "      box-shadow: 0px 1px 2px rgba(60, 64, 67, 0.3), 0px 1px 3px 1px rgba(60, 64, 67, 0.15);\n",
              "      fill: #174EA6;\n",
              "    }\n",
              "\n",
              "    [theme=dark] .colab-df-convert {\n",
              "      background-color: #3B4455;\n",
              "      fill: #D2E3FC;\n",
              "    }\n",
              "\n",
              "    [theme=dark] .colab-df-convert:hover {\n",
              "      background-color: #434B5C;\n",
              "      box-shadow: 0px 1px 3px 1px rgba(0, 0, 0, 0.15);\n",
              "      filter: drop-shadow(0px 1px 2px rgba(0, 0, 0, 0.3));\n",
              "      fill: #FFFFFF;\n",
              "    }\n",
              "  </style>\n",
              "\n",
              "      <script>\n",
              "        const buttonEl =\n",
              "          document.querySelector('#df-e4576cfc-d939-453e-8d48-f35b5f50a9ad button.colab-df-convert');\n",
              "        buttonEl.style.display =\n",
              "          google.colab.kernel.accessAllowed ? 'block' : 'none';\n",
              "\n",
              "        async function convertToInteractive(key) {\n",
              "          const element = document.querySelector('#df-e4576cfc-d939-453e-8d48-f35b5f50a9ad');\n",
              "          const dataTable =\n",
              "            await google.colab.kernel.invokeFunction('convertToInteractive',\n",
              "                                                     [key], {});\n",
              "          if (!dataTable) return;\n",
              "\n",
              "          const docLinkHtml = 'Like what you see? Visit the ' +\n",
              "            '<a target=\"_blank\" href=https://colab.research.google.com/notebooks/data_table.ipynb>data table notebook</a>'\n",
              "            + ' to learn more about interactive tables.';\n",
              "          element.innerHTML = '';\n",
              "          dataTable['output_type'] = 'display_data';\n",
              "          await google.colab.output.renderOutput(dataTable, element);\n",
              "          const docLink = document.createElement('div');\n",
              "          docLink.innerHTML = docLinkHtml;\n",
              "          element.appendChild(docLink);\n",
              "        }\n",
              "      </script>\n",
              "    </div>\n",
              "  </div>\n",
              "  "
            ]
          },
          "metadata": {},
          "execution_count": 28
        }
      ]
    },
    {
      "cell_type": "code",
      "source": [
        "# Menghapus sea_level_pressure dan wind_direction\n",
        "lm = smf.ols('meter_reading ~ C(primary_use)+ square_feet + air_temperature\t+ cloud_coverage + dew_temperature + precip_depth_1_hr + wind_speed',\n",
        "             data=df).fit()\n",
        "print(lm.summary())"
      ],
      "metadata": {
        "colab": {
          "base_uri": "https://localhost:8080/"
        },
        "id": "NpJtSas0jN7s",
        "outputId": "154436a5-6fbe-442c-f82a-1b58039711cb"
      },
      "execution_count": 29,
      "outputs": [
        {
          "output_type": "stream",
          "name": "stdout",
          "text": [
            "                            OLS Regression Results                            \n",
            "==============================================================================\n",
            "Dep. Variable:          meter_reading   R-squared:                       0.374\n",
            "Model:                            OLS   Adj. R-squared:                  0.364\n",
            "Method:                 Least Squares   F-statistic:                     35.19\n",
            "Date:                Mon, 16 Jan 2023   Prob (F-statistic):          4.60e-110\n",
            "Time:                        11:13:31   Log-Likelihood:                -7213.6\n",
            "No. Observations:                1258   AIC:                         1.447e+04\n",
            "Df Residuals:                    1236   BIC:                         1.458e+04\n",
            "Df Model:                          21                                         \n",
            "Covariance Type:            nonrobust                                         \n",
            "===================================================================================================================\n",
            "                                                      coef    std err          t      P>|t|      [0.025      0.975]\n",
            "-------------------------------------------------------------------------------------------------------------------\n",
            "Intercept                                          50.1310     25.644      1.955      0.051      -0.179     100.441\n",
            "C(primary_use)[T.Entertainment/public assembly]   -27.5453      6.924     -3.978      0.000     -41.129     -13.961\n",
            "C(primary_use)[T.Food sales and service]           22.1939     34.080      0.651      0.515     -44.667      89.055\n",
            "C(primary_use)[T.Healthcare]                       39.4023     18.729      2.104      0.036       2.658      76.147\n",
            "C(primary_use)[T.Lodging/residential]              -8.1802      7.470     -1.095      0.274     -22.836       6.476\n",
            "C(primary_use)[T.Manufacturing/industrial]         14.5546     24.292      0.599      0.549     -33.103      62.212\n",
            "C(primary_use)[T.Office]                           -0.5050      6.115     -0.083      0.934     -12.502      11.491\n",
            "C(primary_use)[T.Other]                           -39.1927     16.016     -2.447      0.015     -70.615      -7.771\n",
            "C(primary_use)[T.Parking]                        -188.0997     17.636    -10.666      0.000    -222.699    -153.500\n",
            "C(primary_use)[T.Public services]                 -29.0732      7.478     -3.888      0.000     -43.743     -14.403\n",
            "C(primary_use)[T.Religious worship]               -60.7835     43.847     -1.386      0.166    -146.807      25.240\n",
            "C(primary_use)[T.Retail]                          -38.7981     25.676     -1.511      0.131     -89.171      11.575\n",
            "C(primary_use)[T.Services]                       -121.7554     25.863     -4.708      0.000    -172.496     -71.015\n",
            "C(primary_use)[T.Technology/science]               24.3220     31.093      0.782      0.434     -36.679      85.323\n",
            "C(primary_use)[T.Utility]                         -16.5099     43.858     -0.376      0.707    -102.554      69.535\n",
            "C(primary_use)[T.Warehouse/storage]               -41.4121     22.198     -1.866      0.062     -84.962       2.138\n",
            "square_feet                                         0.0007   3.01e-05     24.148      0.000       0.001       0.001\n",
            "air_temperature                                     0.2102      0.751      0.280      0.780      -1.263       1.684\n",
            "cloud_coverage                                      6.4098      1.843      3.477      0.001       2.793      10.026\n",
            "dew_temperature                                     1.4006      0.593      2.364      0.018       0.238       2.563\n",
            "precip_depth_1_hr                                   8.9891      2.306      3.899      0.000       4.465      13.513\n",
            "wind_speed                                         -9.4479      4.791     -1.972      0.049     -18.847      -0.049\n",
            "==============================================================================\n",
            "Omnibus:                      344.423   Durbin-Watson:                   1.708\n",
            "Prob(Omnibus):                  0.000   Jarque-Bera (JB):             1045.364\n",
            "Skew:                           1.364   Prob(JB):                    1.00e-227\n",
            "Kurtosis:                       6.535   Cond. No.                     2.23e+06\n",
            "==============================================================================\n",
            "\n",
            "Notes:\n",
            "[1] Standard Errors assume that the covariance matrix of the errors is correctly specified.\n",
            "[2] The condition number is large, 2.23e+06. This might indicate that there are\n",
            "strong multicollinearity or other numerical problems.\n"
          ]
        }
      ]
    },
    {
      "cell_type": "markdown",
      "source": [
        "Interpretasi hasil regresi:\n",
        "* Adj. R-squared = 0.364, artinya model hanya mampu menjelaskan variansi data sebesar 36.2%\n",
        "* Prob (F-statistic) = 4.60e-110, karena nilainya < 0.05, maka data dinyatakan signifikan secara statistik\n",
        "* Prob(JB) = 1.00e-227, artinya residual berdistribusi normal\n",
        "* Terdapat masalah multikolinieritas yang ditunjukkan oleh conditional number = 2.23e+06, sehingga berakibat pada tidak valid nya interpretasi nilai beta"
      ],
      "metadata": {
        "id": "BaJIIZLxmVFP"
      }
    },
    {
      "cell_type": "code",
      "source": [
        "# Stepwise forward\n",
        "def forward_selected(df, response):\n",
        "    remaining = set(df.columns)\n",
        "    remaining.remove(response)\n",
        "    selected = []\n",
        "    current_score, best_new_score = 0.0, 0.0\n",
        "    while remaining and current_score == best_new_score:\n",
        "        scores_with_candidates = []\n",
        "        for candidate in remaining:\n",
        "            formula = \"{} ~ {} + 1\".format(response,' + '.join(selected + [candidate]))\n",
        "            score = smf.ols(formula, df).fit().rsquared_adj\n",
        "            scores_with_candidates.append((score, candidate))\n",
        "        scores_with_candidates.sort()\n",
        "        best_new_score, best_candidate = scores_with_candidates.pop()\n",
        "        if current_score < best_new_score:\n",
        "            remaining.remove(best_candidate)\n",
        "            selected.append(best_candidate)\n",
        "            current_score = best_new_score\n",
        "    formula = \"{} ~ {} + 1\".format(response, ' + '.join(selected))\n",
        "    model = smf.ols(formula, df).fit()\n",
        "    return model"
      ],
      "metadata": {
        "id": "n_HU_j81PcuE"
      },
      "execution_count": 30,
      "outputs": []
    },
    {
      "cell_type": "code",
      "source": [
        "df1 = df[['meter_reading','primary_use','square_feet','air_temperature','cloud_coverage',\n",
        "           'dew_temperature','precip_depth_1_hr','wind_speed']]\n",
        "model = forward_selected(df1, 'meter_reading')\n",
        "print(model.model.formula)\n",
        "print(model.summary())"
      ],
      "metadata": {
        "colab": {
          "base_uri": "https://localhost:8080/"
        },
        "id": "iFrWIcQsPouf",
        "outputId": "dbd47ed1-560e-4f97-8349-aa2213a30c6f"
      },
      "execution_count": 31,
      "outputs": [
        {
          "output_type": "stream",
          "name": "stdout",
          "text": [
            "meter_reading ~ square_feet + primary_use + dew_temperature + precip_depth_1_hr + cloud_coverage + wind_speed + 1\n",
            "                            OLS Regression Results                            \n",
            "==============================================================================\n",
            "Dep. Variable:          meter_reading   R-squared:                       0.374\n",
            "Model:                            OLS   Adj. R-squared:                  0.364\n",
            "Method:                 Least Squares   F-statistic:                     36.97\n",
            "Date:                Mon, 16 Jan 2023   Prob (F-statistic):          7.75e-111\n",
            "Time:                        11:13:32   Log-Likelihood:                -7213.6\n",
            "No. Observations:                1258   AIC:                         1.447e+04\n",
            "Df Residuals:                    1237   BIC:                         1.458e+04\n",
            "Df Model:                          20                                         \n",
            "Covariance Type:            nonrobust                                         \n",
            "================================================================================================================\n",
            "                                                   coef    std err          t      P>|t|      [0.025      0.975]\n",
            "----------------------------------------------------------------------------------------------------------------\n",
            "Intercept                                       56.1592     13.911      4.037      0.000      28.868      83.450\n",
            "primary_use[T.Entertainment/public assembly]   -27.4946      6.919     -3.974      0.000     -41.069     -13.920\n",
            "primary_use[T.Food sales and service]           22.3267     34.064      0.655      0.512     -44.503      89.157\n",
            "primary_use[T.Healthcare]                       39.0395     18.677      2.090      0.037       2.397      75.682\n",
            "primary_use[T.Lodging/residential]              -8.3246      7.450     -1.117      0.264     -22.940       6.291\n",
            "primary_use[T.Manufacturing/industrial]         14.3146     24.268      0.590      0.555     -33.295      61.925\n",
            "primary_use[T.Office]                           -0.6866      6.078     -0.113      0.910     -12.611      11.238\n",
            "primary_use[T.Other]                           -39.1964     16.010     -2.448      0.014     -70.607      -7.786\n",
            "primary_use[T.Parking]                        -188.0003     17.626    -10.666      0.000    -222.580    -153.421\n",
            "primary_use[T.Public services]                 -29.1661      7.467     -3.906      0.000     -43.816     -14.516\n",
            "primary_use[T.Religious worship]               -60.5082     43.820     -1.381      0.168    -146.478      25.461\n",
            "primary_use[T.Retail]                          -38.5776     25.654     -1.504      0.133     -88.908      11.753\n",
            "primary_use[T.Services]                       -122.2805     25.785     -4.742      0.000    -172.868     -71.693\n",
            "primary_use[T.Technology/science]               23.9685     31.056      0.772      0.440     -36.959      84.896\n",
            "primary_use[T.Utility]                         -16.7486     43.833     -0.382      0.702    -102.745      69.248\n",
            "primary_use[T.Warehouse/storage]               -41.4252     22.190     -1.867      0.062     -84.959       2.109\n",
            "square_feet                                      0.0007   3.01e-05     24.166      0.000       0.001       0.001\n",
            "dew_temperature                                  1.4846      0.511      2.907      0.004       0.483       2.487\n",
            "precip_depth_1_hr                                8.6852      2.033      4.271      0.000       4.696      12.674\n",
            "cloud_coverage                                   6.6241      1.676      3.952      0.000       3.335       9.913\n",
            "wind_speed                                     -10.4163      3.312     -3.145      0.002     -16.915      -3.918\n",
            "==============================================================================\n",
            "Omnibus:                      344.440   Durbin-Watson:                   1.707\n",
            "Prob(Omnibus):                  0.000   Jarque-Bera (JB):             1041.928\n",
            "Skew:                           1.366   Prob(JB):                    5.60e-227\n",
            "Kurtosis:                       6.524   Cond. No.                     2.23e+06\n",
            "==============================================================================\n",
            "\n",
            "Notes:\n",
            "[1] Standard Errors assume that the covariance matrix of the errors is correctly specified.\n",
            "[2] The condition number is large, 2.23e+06. This might indicate that there are\n",
            "strong multicollinearity or other numerical problems.\n"
          ]
        }
      ]
    },
    {
      "cell_type": "markdown",
      "source": [
        "# Kesimpulan dan Saran :\n",
        "- Secara garis besar data yang diberikan, masih kurang baik karena masih terdapat banyak missing values.\n",
        "\n",
        "- Terdapat koefisien positif untuk variabel square feet, cloud coverage, dew temperature, dan precipt depth 1 hr yang mempengaruhi kenaikan listrik. Sedangkan variabel wind_speed berkoefisien negatif yang artinya semakin cepat angin di suatu tempat, maka penggunaan listrik akan menurun.\n",
        "\n",
        "- Terdapat outlier pada data\n",
        "\n",
        "- Untuk melihat meter_reading sebagai variabel dependen, dihapuskan 2 variabel dari yang diberikan yaitu variabel year_built dan floor_counts karena terlalu banyak missing values yang didapatkan\n",
        "\n",
        "- Jika sebuah instansi edukasi, kesehatan, dan retail ingin membuat sebuah bangunan maka perlu dipersiapkan dana yang cukup besar karena penggunaan listrik dari ke-3 sektor tersebut cukup tinggi diantara sektor lainnya.\n",
        "\n",
        "- Jika sebuah konstruksi ingin membuat sebuah bangunan yang memiliki luas bangunan yang cukup besar, maka perlu dipersiapkan daya listrik yang cukup besar pula, karena terdapat korelasi yang positif dan cukup besar antara keduanya."
      ],
      "metadata": {
        "id": "6ATbEbbJRGp2"
      }
    }
  ]
}